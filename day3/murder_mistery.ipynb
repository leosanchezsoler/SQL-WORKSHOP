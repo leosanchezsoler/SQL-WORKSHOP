{
 "metadata": {
  "language_info": {
   "codemirror_mode": {
    "name": "ipython",
    "version": 3
   },
   "file_extension": ".py",
   "mimetype": "text/x-python",
   "name": "python",
   "nbconvert_exporter": "python",
   "pygments_lexer": "ipython3",
   "version": "3.9.0-final"
  },
  "orig_nbformat": 2,
  "kernelspec": {
   "name": "python3",
   "display_name": "Python 3.9.0 64-bit",
   "metadata": {
    "interpreter": {
     "hash": "7812ea015bdcee6f23a998adcdd2ef97c151c0c241b7b7070987d9313e41299d"
    }
   }
  }
 },
 "nbformat": 4,
 "nbformat_minor": 2,
 "cells": [
  {
   "cell_type": "code",
   "execution_count": 1,
   "metadata": {},
   "outputs": [],
   "source": [
    "# Import the necessary libraries\n",
    "\n",
    "import sqlite3\n",
    "import pandas as pd\n",
    "\n",
    "# Load the data\n",
    "data = 'data/sql-murder-mistery.db'\n",
    "\n",
    "# Use connect()\n",
    "conn = sqlite3.connect(data)\n",
    "\n",
    "# Create a cursor\n",
    "cursor = conn.cursor()"
   ]
  },
  {
   "cell_type": "code",
   "execution_count": 8,
   "metadata": {},
   "outputs": [
    {
     "output_type": "execute_result",
     "data": {
      "text/plain": [
       "[('Security footage shows that there were 2 witnesses. The first witness lives at the last house on \"Northwestern Dr\". The second witness, named Annabel, lives somewhere on \"Franklin Ave\".',)]"
      ]
     },
     "metadata": {},
     "execution_count": 8
    }
   ],
   "source": [
    "query = '''\n",
    "SELECT description\n",
    "FROM crime_scene_report\n",
    "WHERE date = '20180115' and type = 'murder' and city = 'SQL City'\n",
    "'''\n",
    "my_query = cursor.execute(query)\n",
    "my_query.fetchall()"
   ]
  },
  {
   "cell_type": "code",
   "execution_count": 28,
   "metadata": {},
   "outputs": [
    {
     "output_type": "execute_result",
     "data": {
      "text/plain": [
       "[(14887, 'Morty Schapiro', 118009, 4919, 'Northwestern Dr', 111564949, 4919)]"
      ]
     },
     "metadata": {},
     "execution_count": 28
    }
   ],
   "source": [
    "query = '''\n",
    "SELECT *, MAX(p.address_number)\n",
    "FROM person p\n",
    "WHERE p.address_street_name = 'Northwestern Dr'\n",
    "'''\n",
    "my_query = cursor.execute(query)\n",
    "my_query.fetchall()"
   ]
  },
  {
   "cell_type": "code",
   "execution_count": 34,
   "metadata": {},
   "outputs": [
    {
     "output_type": "execute_result",
     "data": {
      "text/plain": [
       "[]"
      ]
     },
     "metadata": {},
     "execution_count": 34
    }
   ],
   "source": [
    "query = '''\n",
    "SELECT *\n",
    "FROM person p\n",
    "JOIN drivers_license dl ON p.id = dl.id\n",
    "'''\n",
    "my_query = cursor.execute(query)\n",
    "my_query.fetchall()"
   ]
  },
  {
   "cell_type": "code",
   "execution_count": 42,
   "metadata": {},
   "outputs": [
    {
     "output_type": "execute_result",
     "data": {
      "text/plain": [
       "[(16371, 'Annabel Miller', 490173, 103, 'Franklin Ave', 318771143)]"
      ]
     },
     "metadata": {},
     "execution_count": 42
    }
   ],
   "source": [
    "query = '''\n",
    "SELECT *\n",
    "FROM person p\n",
    "WHERE p.address_street_name = 'Franklin Ave' AND p.name LIKE 'Annabel%'\n",
    "'''\n",
    "my_query = cursor.execute(query)\n",
    "my_query.fetchall()"
   ]
  },
  {
   "cell_type": "code",
   "execution_count": 43,
   "metadata": {},
   "outputs": [
    {
     "output_type": "execute_result",
     "data": {
      "text/plain": [
       "[(14887,\n",
       "  'Morty Schapiro',\n",
       "  'I heard a gunshot and then saw a man run out. He had a \"Get Fit Now Gym\" bag. The membership number on the bag started with \"48Z\". Only gold members have those bags. The man got into a car with a plate that included \"H42W\".'),\n",
       " (16371,\n",
       "  'Annabel Miller',\n",
       "  'I saw the murder happen, and I recognized the killer from my gym when I was working out last week on January the 9th.')]"
      ]
     },
     "metadata": {},
     "execution_count": 43
    }
   ],
   "source": [
    "query = '''\n",
    "SELECT p.id, p.name, i.transcript\n",
    "FROM person p\n",
    "JOIN interview i ON p.id = i.person_id\n",
    "WHERE p.name = 'Morty Schapiro' or p.name = 'Annabel Miller'\n",
    "'''\n",
    "my_query = cursor.execute(query)\n",
    "my_query.fetchall()"
   ]
  },
  {
   "cell_type": "code",
   "execution_count": 59,
   "metadata": {},
   "outputs": [
    {
     "output_type": "execute_result",
     "data": {
      "text/plain": [
       "[('Jeremy Bowers',)]"
      ]
     },
     "metadata": {},
     "execution_count": 59
    }
   ],
   "source": [
    "query = '''\n",
    "select p.name\n",
    "from drivers_license d\n",
    "join person p ON d.id = p.license_id\n",
    "join get_fit_now_member g ON p.id = g.person_id\n",
    "where plate_number LIKE \"%H42W%\"\n",
    "'''\n",
    "my_query = cursor.execute(query)\n",
    "my_query.fetchall()"
   ]
  },
  {
   "cell_type": "code",
   "execution_count": 66,
   "metadata": {},
   "outputs": [
    {
     "output_type": "execute_result",
     "data": {
      "text/plain": [
       "[]"
      ]
     },
     "metadata": {},
     "execution_count": 66
    }
   ],
   "source": [
    "query = '''\n",
    "SELECT *\n",
    "FROM solution\n",
    "'''\n",
    "my_query = cursor.execute(query)\n",
    "my_query.fetchall()"
   ]
  },
  {
   "cell_type": "code",
   "execution_count": null,
   "metadata": {},
   "outputs": [],
   "source": []
  }
 ]
}